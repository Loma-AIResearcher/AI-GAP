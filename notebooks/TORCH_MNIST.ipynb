{
 "cells": [
  {
   "cell_type": "markdown",
   "metadata": {
    "colab_type": "text",
    "id": "view-in-github"
   },
   "source": [
    "<a href=\"https://colab.research.google.com/github/Loma-AIResearcher/AI-GAP/blob/main/TORCH_MNIST.ipynb\" target=\"_parent\"><img src=\"https://colab.research.google.com/assets/colab-badge.svg\" alt=\"Open In Colab\"/></a>"
   ]
  },
  {
   "cell_type": "code",
   "execution_count": 1,
   "metadata": {
    "id": "v9N5SGXDVE0O"
   },
   "outputs": [],
   "source": [
    "import torch\n",
    "import torch.nn as nn\n",
    "import torchvision\n",
    "import torch.optim as optim\n",
    "import torchvision.transforms as transforms"
   ]
  },
  {
   "cell_type": "code",
   "execution_count": 2,
   "metadata": {
    "id": "lEcNfFYyWEE4"
   },
   "outputs": [],
   "source": [
    "#define the NN\n",
    "class SimpleNN(nn.Module):\n",
    "  def __init__(self):\n",
    "    super(SimpleNN, self).__init__()\n",
    "    self.fc1 = nn.Linear(28*28, 128)\n",
    "    self.fc2 = nn.Linear(128,64)\n",
    "    self.fc3 = nn.Linear(64,10)\n",
    "\n",
    "\n",
    "  def forward(self, x):\n",
    "    x = x.view(-1, 28*28)\n",
    "    x = torch.relu(self.fc1(x))\n",
    "    x = torch.relu(self.fc2(x))\n",
    "    x = self.fc3(x)\n",
    "    return x\n"
   ]
  },
  {
   "cell_type": "code",
   "execution_count": 3,
   "metadata": {
    "colab": {
     "base_uri": "https://localhost:8080/"
    },
    "id": "nTvQlFLKWqgK",
    "outputId": "595af5cc-4908-44b0-d98b-2b9115a08ba2"
   },
   "outputs": [
    {
     "name": "stdout",
     "output_type": "stream",
     "text": [
      "Downloading http://yann.lecun.com/exdb/mnist/train-images-idx3-ubyte.gz\n",
      "Failed to download (trying next):\n",
      "HTTP Error 403: Forbidden\n",
      "\n",
      "Downloading https://ossci-datasets.s3.amazonaws.com/mnist/train-images-idx3-ubyte.gz\n",
      "Downloading https://ossci-datasets.s3.amazonaws.com/mnist/train-images-idx3-ubyte.gz to ./data\\MNIST\\raw\\train-images-idx3-ubyte.gz\n"
     ]
    },
    {
     "name": "stderr",
     "output_type": "stream",
     "text": [
      "100%|████████████████████████████████████████████████████████████████████| 9912422/9912422 [00:26<00:00, 371348.74it/s]\n"
     ]
    },
    {
     "name": "stdout",
     "output_type": "stream",
     "text": [
      "Extracting ./data\\MNIST\\raw\\train-images-idx3-ubyte.gz to ./data\\MNIST\\raw\n",
      "\n",
      "Downloading http://yann.lecun.com/exdb/mnist/train-labels-idx1-ubyte.gz\n",
      "Failed to download (trying next):\n",
      "HTTP Error 403: Forbidden\n",
      "\n",
      "Downloading https://ossci-datasets.s3.amazonaws.com/mnist/train-labels-idx1-ubyte.gz\n",
      "Downloading https://ossci-datasets.s3.amazonaws.com/mnist/train-labels-idx1-ubyte.gz to ./data\\MNIST\\raw\\train-labels-idx1-ubyte.gz\n"
     ]
    },
    {
     "name": "stderr",
     "output_type": "stream",
     "text": [
      "100%|████████████████████████████████████████████████████████████████████████| 28881/28881 [00:00<00:00, 199377.35it/s]\n"
     ]
    },
    {
     "name": "stdout",
     "output_type": "stream",
     "text": [
      "Extracting ./data\\MNIST\\raw\\train-labels-idx1-ubyte.gz to ./data\\MNIST\\raw\n",
      "\n",
      "Downloading http://yann.lecun.com/exdb/mnist/t10k-images-idx3-ubyte.gz\n",
      "Failed to download (trying next):\n",
      "HTTP Error 403: Forbidden\n",
      "\n",
      "Downloading https://ossci-datasets.s3.amazonaws.com/mnist/t10k-images-idx3-ubyte.gz\n",
      "Downloading https://ossci-datasets.s3.amazonaws.com/mnist/t10k-images-idx3-ubyte.gz to ./data\\MNIST\\raw\\t10k-images-idx3-ubyte.gz\n"
     ]
    },
    {
     "name": "stderr",
     "output_type": "stream",
     "text": [
      "100%|████████████████████████████████████████████████████████████████████| 1648877/1648877 [00:10<00:00, 156101.41it/s]\n"
     ]
    },
    {
     "name": "stdout",
     "output_type": "stream",
     "text": [
      "Extracting ./data\\MNIST\\raw\\t10k-images-idx3-ubyte.gz to ./data\\MNIST\\raw\n",
      "\n",
      "Downloading http://yann.lecun.com/exdb/mnist/t10k-labels-idx1-ubyte.gz\n",
      "Failed to download (trying next):\n",
      "HTTP Error 403: Forbidden\n",
      "\n",
      "Downloading https://ossci-datasets.s3.amazonaws.com/mnist/t10k-labels-idx1-ubyte.gz\n",
      "Downloading https://ossci-datasets.s3.amazonaws.com/mnist/t10k-labels-idx1-ubyte.gz to ./data\\MNIST\\raw\\t10k-labels-idx1-ubyte.gz\n"
     ]
    },
    {
     "name": "stderr",
     "output_type": "stream",
     "text": [
      "100%|██████████████████████████████████████████████████████████████████████████| 4542/4542 [00:00<00:00, 361730.35it/s]"
     ]
    },
    {
     "name": "stdout",
     "output_type": "stream",
     "text": [
      "Extracting ./data\\MNIST\\raw\\t10k-labels-idx1-ubyte.gz to ./data\\MNIST\\raw\n",
      "\n"
     ]
    },
    {
     "name": "stderr",
     "output_type": "stream",
     "text": [
      "\n"
     ]
    }
   ],
   "source": [
    "# define a transformation to normalize the data\n",
    "transform = transforms.Compose([transforms.ToTensor(), transforms.Normalize((0.5,),(0.5,))])\n",
    "trainset = torchvision.datasets.MNIST(root = './data' , train = True,download = True, transform=transform)\n",
    "trainloader = torch.utils.data.DataLoader(trainset, batch_size = 32, shuffle = True)\n",
    "\n",
    "testset = torchvision.datasets.MNIST(root='./data',train = False, download=True,transform=transform)\n",
    "testloader = torch.utils.data.DataLoader(testset,batch_size = 32, shuffle = False)"
   ]
  },
  {
   "cell_type": "code",
   "execution_count": 4,
   "metadata": {
    "id": "zmGbcjGaX-jf"
   },
   "outputs": [],
   "source": [
    "net = SimpleNN()\n",
    "criterion = nn.CrossEntropyLoss() #loss\n",
    "optimizer = optim.SGD(net.parameters(), lr = 0.01, momentum = 0.9) #opt"
   ]
  },
  {
   "cell_type": "code",
   "execution_count": null,
   "metadata": {
    "colab": {
     "base_uri": "https://localhost:8080/"
    },
    "id": "ml0lJx96YWnn",
    "outputId": "f97a7b71-db8f-4f7a-8b62-3b53dca3e1e4"
   },
   "outputs": [
    {
     "name": "stdout",
     "output_type": "stream",
     "text": [
      "[1,100, loss: 1.437]\n",
      "[1,200, loss: 0.541]\n",
      "[1,300, loss: 0.433]\n",
      "[1,400, loss: 0.390]\n",
      "[1,500, loss: 0.368]\n",
      "[1,600, loss: 0.314]\n",
      "[1,700, loss: 0.328]\n",
      "[1,800, loss: 0.283]\n",
      "[1,900, loss: 0.252]\n",
      "[1,1000, loss: 0.277]\n",
      "[1,1100, loss: 0.239]\n",
      "[1,1200, loss: 0.232]\n",
      "[1,1300, loss: 0.235]\n",
      "[1,1400, loss: 0.254]\n",
      "[1,1500, loss: 0.222]\n",
      "[1,1600, loss: 0.216]\n",
      "[1,1700, loss: 0.184]\n",
      "[1,1800, loss: 0.200]\n",
      "[2,100, loss: 0.165]\n",
      "[2,200, loss: 0.164]\n",
      "[2,300, loss: 0.180]\n",
      "[2,400, loss: 0.173]\n",
      "[2,500, loss: 0.159]\n",
      "[2,600, loss: 0.146]\n",
      "[2,700, loss: 0.155]\n",
      "[2,800, loss: 0.141]\n",
      "[2,900, loss: 0.144]\n",
      "[2,1000, loss: 0.158]\n",
      "[2,1100, loss: 0.157]\n",
      "[2,1200, loss: 0.151]\n",
      "[2,1300, loss: 0.147]\n",
      "[2,1400, loss: 0.163]\n",
      "[2,1500, loss: 0.131]\n"
     ]
    }
   ],
   "source": [
    "#train_loop\n",
    "for epoch in range(2):\n",
    "  running_loss = 0.0\n",
    "  for i, data in enumerate(trainloader,0):\n",
    "    inputs, labels = data\n",
    "    optimizer.zero_grad()\n",
    "    outputs = net(inputs)\n",
    "    loss = criterion(outputs, labels)\n",
    "    loss.backward()\n",
    "    optimizer.step()\n",
    "    running_loss +=loss.item()\n",
    "    if i % 100 == 99:\n",
    "      print(f\"[{epoch+1},{i + 1}, loss: {running_loss / 100:.3f}]\")\n",
    "      running_loss = 0.0\n",
    "\n",
    "print(\"done\")"
   ]
  },
  {
   "cell_type": "code",
   "execution_count": null,
   "metadata": {
    "id": "07lMu0O_ZbDg"
   },
   "outputs": [],
   "source": [
    "torch.save(net.state_dict(), \"simple_nn.pth\")"
   ]
  },
  {
   "cell_type": "code",
   "execution_count": null,
   "metadata": {
    "colab": {
     "base_uri": "https://localhost:8080/"
    },
    "id": "hLOokC07Z_YN",
    "outputId": "744e7b6a-cfab-4215-c5bf-6f2d4a1ab2d4"
   },
   "outputs": [],
   "source": [
    "print(net)"
   ]
  },
  {
   "cell_type": "code",
   "execution_count": null,
   "metadata": {
    "colab": {
     "base_uri": "https://localhost:8080/"
    },
    "id": "Fh10wwAsaCkW",
    "outputId": "98a22263-01fa-4080-f0e6-ab683ab8973b"
   },
   "outputs": [],
   "source": [
    "correct = 0\n",
    "total = 0\n",
    "\n",
    "with torch.no_grad():\n",
    "  for data in testloader:\n",
    "    images, labels = data\n",
    "    outputs = net(images)\n",
    "    _, predicted = torch.max(outputs.data, 1)\n",
    "    total += labels.size(0)\n",
    "    correct += (predicted == labels).sum().item()\n",
    "print(f\"Accuracy of the network on the 10000 test images: {100 * correct / total:.2f}%\")"
   ]
  },
  {
   "cell_type": "code",
   "execution_count": null,
   "metadata": {
    "id": "_NyRXZmCbQIb"
   },
   "outputs": [],
   "source": []
  }
 ],
 "metadata": {
  "accelerator": "GPU",
  "colab": {
   "authorship_tag": "ABX9TyMMIQj+3g448XwPOU/SGCcw",
   "gpuType": "T4",
   "include_colab_link": true,
   "provenance": []
  },
  "kernelspec": {
   "display_name": "Python 3 (ipykernel)",
   "language": "python",
   "name": "python3"
  },
  "language_info": {
   "codemirror_mode": {
    "name": "ipython",
    "version": 3
   },
   "file_extension": ".py",
   "mimetype": "text/x-python",
   "name": "python",
   "nbconvert_exporter": "python",
   "pygments_lexer": "ipython3",
   "version": "3.11.8"
  }
 },
 "nbformat": 4,
 "nbformat_minor": 4
}
